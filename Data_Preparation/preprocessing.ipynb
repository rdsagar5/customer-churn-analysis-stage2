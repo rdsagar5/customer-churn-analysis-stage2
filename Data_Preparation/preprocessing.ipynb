{
 "cells": [
  {
   "cell_type": "markdown",
   "id": "e414c1a7",
   "metadata": {},
   "source": [
    "# Data Preprocessing\n",
    "This notebook handles encoding and feature scaling."
   ]
  },
  {
   "cell_type": "code",
   "execution_count": null,
   "id": "53377b35",
   "metadata": {},
   "outputs": [],
   "source": [
    "\n",
    "import pandas as pd\n",
    "from sklearn.preprocessing import StandardScaler, LabelEncoder\n",
    "import joblib\n",
    "\n",
    "# Load cleaned data\n",
    "df = pd.read_csv('../customer_churn_cleaned.csv')\n",
    "df.head()\n"
   ]
  },
  {
   "cell_type": "code",
   "execution_count": null,
   "id": "48c6c6c5",
   "metadata": {},
   "outputs": [],
   "source": [
    "\n",
    "# Encode categorical variables\n",
    "label_encoders = {}\n",
    "for column in df.select_dtypes(include='object').columns:\n",
    "    le = LabelEncoder()\n",
    "    df[column] = le.fit_transform(df[column])\n",
    "    label_encoders[column] = le\n"
   ]
  },
  {
   "cell_type": "code",
   "execution_count": null,
   "id": "aafbeaca",
   "metadata": {},
   "outputs": [],
   "source": [
    "\n",
    "# Feature scaling\n",
    "scaler = StandardScaler()\n",
    "scaled_features = scaler.fit_transform(df)\n",
    "\n",
    "# Save the scaler\n",
    "joblib.dump(scaler, '../Data_Preparation/scaler.pkl')\n"
   ]
  },
  {
   "cell_type": "code",
   "execution_count": null,
   "id": "9e87441a",
   "metadata": {},
   "outputs": [],
   "source": [
    "\n",
    "# Save the processed dataframe\n",
    "processed_df = pd.DataFrame(scaled_features, columns=df.columns)\n",
    "processed_df.to_csv('../customer_churn_processed.csv', index=False)\n",
    "print(\"✅ Preprocessing complete and saved.\")\n"
   ]
  }
 ],
 "metadata": {},
 "nbformat": 4,
 "nbformat_minor": 5
}
