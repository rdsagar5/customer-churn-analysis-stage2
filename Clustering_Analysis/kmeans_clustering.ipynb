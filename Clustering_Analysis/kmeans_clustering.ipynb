{
 "cells": [
  {
   "cell_type": "markdown",
   "id": "b6ea6993",
   "metadata": {},
   "source": [
    "# K-Means Clustering\n",
    "This notebook applies K-Means clustering on the processed dataset."
   ]
  },
  {
   "cell_type": "code",
   "execution_count": null,
   "id": "909c8f53",
   "metadata": {},
   "outputs": [],
   "source": [
    "\n",
    "import pandas as pd\n",
    "import matplotlib.pyplot as plt\n",
    "from sklearn.cluster import KMeans\n",
    "from sklearn.decomposition import PCA\n",
    "\n",
    "# Load the preprocessed dataset\n",
    "df = pd.read_csv('/Users/sagarbk/Documents/WIL/customer_churn_processed.csv')\n",
    "df.head()\n"
   ]
  },
  {
   "cell_type": "code",
   "execution_count": null,
   "id": "3039f215",
   "metadata": {},
   "outputs": [],
   "source": [
    "\n",
    "# Elbow method to find optimal number of clusters\n",
    "inertia = []\n",
    "K = range(1, 11)\n",
    "\n",
    "for k in K:\n",
    "    kmeans = KMeans(n_clusters=k, random_state=42)\n",
    "    kmeans.fit(df)\n",
    "    inertia.append(kmeans.inertia_)\n",
    "\n",
    "# Plot the Elbow Method\n",
    "plt.figure(figsize=(8, 5))\n",
    "plt.plot(K, inertia, 'bo-')\n",
    "plt.xlabel('Number of clusters (K)')\n",
    "plt.ylabel('Inertia')\n",
    "plt.title('Elbow Method For Optimal K')\n",
    "plt.grid(True)\n",
    "plt.savefig('/Users/sagarbk/Documents/WIL/Clustering_Analysis/elbow_method.png')\n",
    "plt.show()\n"
   ]
  },
  {
   "cell_type": "code",
   "execution_count": null,
   "id": "0df33853",
   "metadata": {},
   "outputs": [],
   "source": [
    "\n",
    "# Apply KMeans with optimal K (example: 3)\n",
    "kmeans = KMeans(n_clusters=3, random_state=42)\n",
    "clusters = kmeans.fit_predict(df)\n",
    "df['Cluster'] = clusters\n"
   ]
  },
  {
   "cell_type": "code",
   "execution_count": null,
   "id": "a7408501",
   "metadata": {},
   "outputs": [],
   "source": [
    "\n",
    "# Visualize clusters using PCA for 2D plotting\n",
    "pca = PCA(n_components=2)\n",
    "reduced_data = pca.fit_transform(df.drop('Cluster', axis=1))\n",
    "\n",
    "plt.figure(figsize=(8, 6))\n",
    "plt.scatter(reduced_data[:, 0], reduced_data[:, 1], c=df['Cluster'], cmap='viridis')\n",
    "plt.xlabel('PCA 1')\n",
    "plt.ylabel('PCA 2')\n",
    "plt.title('Customer Clusters (PCA-reduced)')\n",
    "plt.colorbar()\n",
    "plt.savefig('/Users/sagarbk/Documents/WIL/Clustering_Analysis/cluster_visualization.png')\n",
    "plt.show()\n"
   ]
  }
 ],
 "metadata": {},
 "nbformat": 4,
 "nbformat_minor": 5
}
